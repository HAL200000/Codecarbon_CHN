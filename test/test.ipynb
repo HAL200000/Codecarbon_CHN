{
 "cells": [
  {
   "cell_type": "code",
   "execution_count": 8,
   "metadata": {
    "collapsed": true
   },
   "outputs": [
    {
     "name": "stderr",
     "output_type": "stream",
     "text": [
      "[codecarbon INFO @ 16:42:25] [setup] RAM Tracking...\n",
      "[codecarbon INFO @ 16:42:25] [setup] CPU Tracking...\n",
      "[codecarbon WARNING @ 16:42:25] No CPU tracking mode found. Falling back on CPU constant mode. \n",
      " Windows OS detected: Please install Intel Power Gadget to measure CPU\n",
      "\n",
      "[codecarbon INFO @ 16:42:26] CPU Model on constant consumption mode: 11th Gen Intel(R) Core(TM) i7-11800H @ 2.30GHz\n",
      "[codecarbon INFO @ 16:42:26] [setup] GPU Tracking...\n",
      "[codecarbon INFO @ 16:42:26] Tracking Nvidia GPU via pynvml\n",
      "[codecarbon INFO @ 16:42:26] >>> Tracker's metadata:\n",
      "[codecarbon INFO @ 16:42:26]   Platform system: Windows-10-10.0.19045-SP0\n",
      "[codecarbon INFO @ 16:42:26]   Python version: 3.8.18\n",
      "[codecarbon INFO @ 16:42:26]   CodeCarbon version: 2.8.3\n",
      "[codecarbon INFO @ 16:42:26]   Available RAM : 15.733 GB\n",
      "[codecarbon INFO @ 16:42:26]   CPU count: 16\n",
      "[codecarbon INFO @ 16:42:26]   CPU model: 11th Gen Intel(R) Core(TM) i7-11800H @ 2.30GHz\n",
      "[codecarbon INFO @ 16:42:26]   GPU count: 1\n",
      "[codecarbon INFO @ 16:42:26]   GPU model: 1 x NVIDIA GeForce RTX 3060 Laptop GPU\n",
      "[codecarbon INFO @ 16:42:30] Saving emissions data to file C:\\Users\\18486\\Nutstore\\1\\我的坚果云\\毕业设计\\project\\codecarbon\\test\\emissions.csv\n",
      "[codecarbon INFO @ 16:42:36] Energy consumed for RAM : 0.000000 kWh. RAM Power : 0.0558013916015625 W\n",
      "[codecarbon INFO @ 16:42:36] Energy consumed for all CPUs : 0.000032 kWh. Total CPU Power : 22.5 W\n",
      "[codecarbon INFO @ 16:42:36] Energy consumed for all GPUs : 0.000034 kWh. Total GPU Power : 24.26662758321583 W\n",
      "[codecarbon INFO @ 16:42:36] 0.000066 kWh of electricity used since the beginning.\n"
     ]
    },
    {
     "data": {
      "text/plain": "4.6247038772736784e-05"
     },
     "execution_count": 8,
     "metadata": {},
     "output_type": "execute_result"
    }
   ],
   "source": [
    "from codecarbon import EmissionsTracker\n",
    "import logging\n",
    "import time\n",
    "\n",
    "# 启用日志，确保 CodeCarbon 的日志可见\n",
    "logging.basicConfig(level=logging.INFO)\n",
    "\n",
    "# 创建 CodeCarbon 追踪器\n",
    "tracker = EmissionsTracker(tracking_mode=\"process\")\n",
    "tracker.start()\n",
    "\n",
    "# 你的计算任务\n",
    "time.sleep(5)\n",
    "\n",
    "tracker.stop()"
   ]
  },
  {
   "cell_type": "code",
   "execution_count": 6,
   "outputs": [
    {
     "name": "stdout",
     "output_type": "stream",
     "text": [
      "{'latitude': '22.2578', 'accuracy': 10, 'country': 'Hong Kong', 'longitude': '114.1657', 'organization': 'AS4760 HKT Limited', 'asn': 4760, 'timezone': 'Asia/Hong_Kong', 'area_code': '0', 'organization_name': 'HKT Limited', 'country_code': 'HK', 'country_code3': 'HKG', 'continent_code': 'AS', 'ip': '219.76.254.85'}\n"
     ]
    }
   ],
   "source": [
    "import requests\n",
    "\n",
    "# 尝试访问 geo API\n",
    "response = requests.get(\"https://get.geojs.io/v1/ip/geo.json\", timeout=10)\n",
    "print(response.json())"
   ],
   "metadata": {
    "collapsed": false,
    "pycharm": {
     "name": "#%%\n"
    }
   }
  },
  {
   "cell_type": "code",
   "execution_count": 10,
   "outputs": [
    {
     "ename": "TypeError",
     "evalue": "get_country_emissions() missing 1 required positional argument: 'geo'",
     "output_type": "error",
     "traceback": [
      "\u001B[1;31m---------------------------------------------------------------------------\u001B[0m",
      "\u001B[1;31mTypeError\u001B[0m                                 Traceback (most recent call last)",
      "Cell \u001B[1;32mIn[10], line 14\u001B[0m\n\u001B[0;32m     11\u001B[0m geo \u001B[38;5;241m=\u001B[39m GeoMetadata(country_iso_code\u001B[38;5;241m=\u001B[39m\u001B[38;5;124m\"\u001B[39m\u001B[38;5;124mCN\u001B[39m\u001B[38;5;124m\"\u001B[39m)\n\u001B[0;32m     13\u001B[0m \u001B[38;5;66;03m# 计算假设 1 kWh 用电对应的碳排放量\u001B[39;00m\n\u001B[1;32m---> 14\u001B[0m ci_value \u001B[38;5;241m=\u001B[39m \u001B[43memissions\u001B[49m\u001B[38;5;241;43m.\u001B[39;49m\u001B[43mget_country_emissions\u001B[49m\u001B[43m(\u001B[49m\u001B[43mgeo\u001B[49m\u001B[43m)\u001B[49m\n\u001B[0;32m     16\u001B[0m \u001B[38;5;28mprint\u001B[39m(\u001B[38;5;124mf\u001B[39m\u001B[38;5;124m\"\u001B[39m\u001B[38;5;124m当前使用的碳排放因子（CI）：\u001B[39m\u001B[38;5;132;01m{\u001B[39;00mci_value\u001B[38;5;132;01m}\u001B[39;00m\u001B[38;5;124m kg CO₂/kWh\u001B[39m\u001B[38;5;124m\"\u001B[39m)\n",
      "\u001B[1;31mTypeError\u001B[0m: get_country_emissions() missing 1 required positional argument: 'geo'"
     ]
    }
   ],
   "source": [
    "from codecarbon.core.emissions import Emissions\n",
    "from codecarbon.input import DataSource\n",
    "from codecarbon.external.geography import GeoMetadata, CloudMetadata\n",
    "from codecarbon.core.units import Energy\n",
    "\n",
    "# 初始化 CodeCarbon 的数据源\n",
    "data_source = DataSource()\n",
    "emissions = Emissions(data_source)\n",
    "\n",
    "# 假设你的服务器在中国\n",
    "geo = GeoMetadata(country_iso_code=\"CN\")\n",
    "\n",
    "# 计算假设 1 kWh 用电对应的碳排放量\n",
    "ci_value = emissions.get_country_emissions(Energy.from_kWh(1), geo)\n",
    "\n",
    "print(f\"当前使用的碳排放因子（CI）：{ci_value} kg CO₂/kWh\")\n"
   ],
   "metadata": {
    "collapsed": false,
    "pycharm": {
     "name": "#%%\n"
    }
   }
  },
  {
   "cell_type": "code",
   "execution_count": null,
   "outputs": [],
   "source": [],
   "metadata": {
    "collapsed": false,
    "pycharm": {
     "name": "#%%\n"
    }
   }
  }
 ],
 "metadata": {
  "kernelspec": {
   "display_name": "Python 3",
   "language": "python",
   "name": "python3"
  },
  "language_info": {
   "codemirror_mode": {
    "name": "ipython",
    "version": 2
   },
   "file_extension": ".py",
   "mimetype": "text/x-python",
   "name": "python",
   "nbconvert_exporter": "python",
   "pygments_lexer": "ipython2",
   "version": "2.7.6"
  }
 },
 "nbformat": 4,
 "nbformat_minor": 0
}