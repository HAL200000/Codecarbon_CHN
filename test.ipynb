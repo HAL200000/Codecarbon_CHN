{
 "cells": [
  {
   "cell_type": "code",
   "execution_count": null,
   "metadata": {
    "collapsed": false,
    "pycharm": {
     "is_executing": true,
     "name": "#%%\n"
    }
   },
   "outputs": [],
   "source": [
    "# 现在导入 codecarbon，它会从指定的路径中加载\n",
    "import codecarbon\n",
    "print(codecarbon.__file__)  # 打印出 codecarbon 模块的路径，确保它是从新路径加载的\n"
   ]
  },
  {
   "cell_type": "code",
   "execution_count": null,
   "metadata": {
    "collapsed": false,
    "pycharm": {
     "name": "#%%\n"
    }
   },
   "outputs": [],
   "source": [
    "from codecarbon.external.geography import GeoMetadata\n",
    "\n",
    "g = GeoMetadata()           # 不传参数，内部会自动调用 IP 接口\n",
    "area = g.get_grid_area()\n",
    "print(\"国家:\", g.country_name)\n",
    "print(\"省份:\", g.region)\n",
    "print(\"经纬度:\", g.latitude, g.longitude)\n",
    "print(\"电网区域:\", area)\n"
   ]
  },
  {
   "cell_type": "code",
   "execution_count": 42,
   "id": "adedc5ac",
   "metadata": {
    "collapsed": false,
    "pycharm": {
     "name": "#%%\n"
    }
   },
   "outputs": [
    {
     "ename": "ModuleNotFoundError",
     "evalue": "No module named 'torch'",
     "output_type": "error",
     "traceback": [
      "\u001b[1;31m---------------------------------------------------------------------------\u001b[0m",
      "\u001b[1;31mModuleNotFoundError\u001b[0m                       Traceback (most recent call last)",
      "Cell \u001b[1;32mIn[42], line 21\u001b[0m\n\u001b[0;32m     18\u001b[0m tracker\u001b[38;5;241m.\u001b[39mstart()\n\u001b[0;32m     20\u001b[0m \u001b[38;5;66;03m# ===== MNIST 训练部分 =====\u001b[39;00m\n\u001b[1;32m---> 21\u001b[0m \u001b[38;5;28;01mimport\u001b[39;00m\u001b[38;5;250m \u001b[39m\u001b[38;5;21;01mtorch\u001b[39;00m\n\u001b[0;32m     22\u001b[0m \u001b[38;5;28;01mimport\u001b[39;00m\u001b[38;5;250m \u001b[39m\u001b[38;5;21;01mtorch\u001b[39;00m\u001b[38;5;21;01m.\u001b[39;00m\u001b[38;5;21;01mnn\u001b[39;00m\u001b[38;5;250m \u001b[39m\u001b[38;5;28;01mas\u001b[39;00m\u001b[38;5;250m \u001b[39m\u001b[38;5;21;01mnn\u001b[39;00m\n\u001b[0;32m     23\u001b[0m \u001b[38;5;28;01mimport\u001b[39;00m\u001b[38;5;250m \u001b[39m\u001b[38;5;21;01mtorch\u001b[39;00m\u001b[38;5;21;01m.\u001b[39;00m\u001b[38;5;21;01moptim\u001b[39;00m\u001b[38;5;250m \u001b[39m\u001b[38;5;28;01mas\u001b[39;00m\u001b[38;5;250m \u001b[39m\u001b[38;5;21;01moptim\u001b[39;00m\n",
      "\u001b[1;31mModuleNotFoundError\u001b[0m: No module named 'torch'"
     ]
    }
   ],
   "source": [
    "import os\n",
    "from codecarbon import EmissionsTracker\n",
    "\n",
    "# 设置代理（如有需要）\n",
    "os.environ[\"HTTPS_PROXY\"] = \"http://127.0.0.1:7890\"\n",
    "os.environ[\"ALL_PROXY\"]   = \"socks5h://127.0.0.1:7890\"\n",
    "\n",
    "# ===== 初始化碳排放追踪器 =====\n",
    "tracker = EmissionsTracker(\n",
    "    project_name=\"MNIST\",\n",
    "    output_dir='D:\\\\我的坚果云\\\\毕业设计\\\\codecarbon_CHN\\\\carbon_logs',\n",
    "    measure_power_secs=1,\n",
    "    tracking_mode=\"process\",\n",
    "    log_level=\"error\",\n",
    "    grid_emission_mode=\"om\"  # 使用华北的 OM 排放因子\n",
    ")\n",
    "\n",
    "tracker.start()\n",
    "\n",
    "# ===== MNIST 训练部分 =====\n",
    "import torch\n",
    "import torch.nn as nn\n",
    "import torch.optim as optim\n",
    "from torchvision import datasets, transforms\n",
    "from torch.utils.data import DataLoader\n",
    "\n",
    "# 数据准备\n",
    "transform = transforms.Compose([transforms.ToTensor()])\n",
    "train_dataset = datasets.MNIST(root='./data', train=True, download=True, transform=transform)\n",
    "train_loader = DataLoader(train_dataset, batch_size=64, shuffle=True)\n",
    "\n",
    "# 简单模型\n",
    "class SimpleCNN(nn.Module):\n",
    "    def __init__(self):\n",
    "        super(SimpleCNN, self).__init__()\n",
    "        self.conv = nn.Sequential(\n",
    "            nn.Conv2d(1, 16, 3, padding=1), nn.ReLU(),\n",
    "            nn.MaxPool2d(2),\n",
    "            nn.Conv2d(16, 32, 3, padding=1), nn.ReLU(),\n",
    "            nn.MaxPool2d(2)\n",
    "        )\n",
    "        self.fc = nn.Sequential(\n",
    "            nn.Flatten(),\n",
    "            nn.Linear(32 * 7 * 7, 128),\n",
    "            nn.ReLU(),\n",
    "            nn.Linear(128, 10)\n",
    "        )\n",
    "\n",
    "    def forward(self, x):\n",
    "        x = self.conv(x)\n",
    "        x = self.fc(x)\n",
    "        return x\n",
    "\n",
    "# 训练设置\n",
    "device = torch.device(\"cuda\" if torch.cuda.is_available() else \"cpu\")\n",
    "model = SimpleCNN().to(device)\n",
    "criterion = nn.CrossEntropyLoss()\n",
    "optimizer = optim.Adam(model.parameters(), lr=1e-3)\n",
    "\n",
    "# 开始训练\n",
    "epochs = 15\n",
    "for epoch in range(epochs):\n",
    "    total_loss = 0\n",
    "    for batch_idx, (inputs, labels) in enumerate(train_loader):\n",
    "        inputs, labels = inputs.to(device), labels.to(device)\n",
    "        outputs = model(inputs)\n",
    "        loss = criterion(outputs, labels)\n",
    "        optimizer.zero_grad()\n",
    "        loss.backward()\n",
    "        optimizer.step()\n",
    "        total_loss += loss.item()\n",
    "    print(f\"Epoch {epoch+1}/{epochs} | Loss: {total_loss:.4f}\")\n",
    "\n",
    "# ===== 停止碳排放追踪并输出结果 =====\n",
    "emissions = tracker.stop()\n",
    "print(f\"MNIST 训练任务碳排放总计: {emissions:.6f} kg CO₂eq\")\n"
   ]
  },
  {
   "cell_type": "code",
   "execution_count": null,
   "id": "c8b72380",
   "metadata": {},
   "outputs": [],
   "source": [
    "import time\n",
    "from codecarbon import OfflineEmissionsTracker\n",
    "\n",
    "# 华北 — 北京\n",
    "lat, lon = 39.90, 116.40\n",
    "tracker = OfflineEmissionsTracker(\n",
    "    project_name=\"offline_huabei\",\n",
    "    country_iso_code=\"CHN\",\n",
    "    region=\"beijing\",\n",
    "    grid_emission_mode=\"om\"\n",
    ")\n",
    "# 1) 手动指定 GeoMetadata\n",
    "tracker._geo.latitude  = lat\n",
    "tracker._geo.longitude = lon\n",
    "# 2) 同步到内部配置，否则输出里不会更新\n",
    "tracker._conf[\"latitude\"]  = lat\n",
    "tracker._conf[\"longitude\"] = lon\n",
    "\n",
    "tracker.start()\n",
    "time.sleep(1)\n",
    "em_huabei = tracker.stop()\n",
    "\n",
    "print(f\"北京  (lat={lat}, lon={lon}) → 排放：{em_huabei:.6f} kgCO₂eq\")\n"
   ]
  },
  {
   "cell_type": "code",
   "execution_count": null,
   "id": "0bbb9180",
   "metadata": {},
   "outputs": [],
   "source": [
    "# 华东 —— 上海 (31.23, 121.47)\n",
    "lat, lon = 31.23, 121.47\n",
    "tracker = OfflineEmissionsTracker(\n",
    "    project_name=\"offline_huadong\",\n",
    "    country_iso_code=\"CHN\",\n",
    "    region=\"shanghai\",\n",
    "    grid_emission_mode=\"om\"\n",
    ")\n",
    "tracker._geo.latitude  = lat\n",
    "tracker._geo.longitude = lon\n",
    "tracker._conf[\"latitude\"]  = lat\n",
    "tracker._conf[\"longitude\"] = lon\n",
    "tracker.start()\n",
    "time.sleep(1)\n",
    "em_huadong = tracker.stop()\n",
    "print(f\"华东（上海, {lat}, {lon}）→ {em_huadong:.6f} kgCO₂eq\")"
   ]
  },
  {
   "cell_type": "code",
   "execution_count": null,
   "id": "1c1692c3",
   "metadata": {},
   "outputs": [],
   "source": [
    "# 华南 —— 广东（广州, 23.13, 113.26）\n",
    "lat, lon = 23.13, 113.26\n",
    "tracker = OfflineEmissionsTracker(\n",
    "    project_name=\"offline_huanan\",\n",
    "    country_iso_code=\"CHN\",\n",
    "    region=\"guangdong\",\n",
    "    grid_emission_mode=\"om\"\n",
    ")\n",
    "tracker._geo.latitude  = lat\n",
    "tracker._geo.longitude = lon\n",
    "tracker._conf[\"latitude\"]  = lat\n",
    "tracker._conf[\"longitude\"] = lon\n",
    "tracker.start()\n",
    "time.sleep(1)\n",
    "em_huanan = tracker.stop()\n",
    "print(f\"华南（广州, {lat}, {lon}）→ {em_huanan:.6f} kgCO₂eq\")"
   ]
  },
  {
   "cell_type": "code",
   "execution_count": null,
   "id": "4a26379a",
   "metadata": {},
   "outputs": [],
   "source": [
    "# 华中 —— 河南（郑州, 34.75, 113.67）\n",
    "lat, lon = 34.75, 113.67\n",
    "tracker = OfflineEmissionsTracker(\n",
    "    project_name=\"offline_huazhong\",\n",
    "    country_iso_code=\"CHN\",\n",
    "    region=\"henan\",\n",
    "    grid_emission_mode=\"om\"\n",
    ")\n",
    "tracker._geo.latitude  = lat\n",
    "tracker._geo.longitude = lon\n",
    "tracker._conf[\"latitude\"]  = lat\n",
    "tracker._conf[\"longitude\"] = lon\n",
    "tracker.start()\n",
    "time.sleep(1)\n",
    "em_huazhong = tracker.stop()\n",
    "print(f\"华中（郑州, {lat}, {lon}）→ {em_huazhong:.6f} kgCO₂eq\")"
   ]
  },
  {
   "cell_type": "code",
   "execution_count": null,
   "id": "741db831",
   "metadata": {},
   "outputs": [],
   "source": [
    "# 西北 —— 陕西（西安, 34.27, 108.93）\n",
    "lat, lon = 34.27, 108.93\n",
    "tracker = OfflineEmissionsTracker(\n",
    "    project_name=\"offline_xibei\",\n",
    "    country_iso_code=\"CHN\",\n",
    "    region=\"shaanxi\",\n",
    "    grid_emission_mode=\"om\"\n",
    ")\n",
    "tracker._geo.latitude  = lat\n",
    "tracker._geo.longitude = lon\n",
    "tracker._conf[\"latitude\"]  = lat\n",
    "tracker._conf[\"longitude\"] = lon\n",
    "tracker.start()\n",
    "time.sleep(1)\n",
    "em_xibei = tracker.stop()\n",
    "print(f\"西北（西安, {lat}, {lon}）→ {em_xibei:.6f} kgCO₂eq\")"
   ]
  },
  {
   "cell_type": "code",
   "execution_count": null,
   "id": "329a6ed1",
   "metadata": {},
   "outputs": [],
   "source": [
    "# 西南 —— 四川（成都, 30.67, 104.06）\n",
    "lat, lon = 30.67, 104.06\n",
    "tracker = OfflineEmissionsTracker(\n",
    "    project_name=\"offline_xinan\",\n",
    "    country_iso_code=\"CHN\",\n",
    "    region=\"sichuan\",\n",
    "    grid_emission_mode=\"om\"\n",
    ")\n",
    "tracker._geo.latitude  = lat\n",
    "tracker._geo.longitude = lon\n",
    "tracker._conf[\"latitude\"]  = lat\n",
    "tracker._conf[\"longitude\"] = lon\n",
    "tracker.start()\n",
    "time.sleep(1)\n",
    "em_xinan = tracker.stop()\n",
    "print(f\"西南（成都, {lat}, {lon}）→ {em_xinan:.6f} kgCO₂eq\")"
   ]
  },
  {
   "cell_type": "code",
   "execution_count": null,
   "id": "ba3ea80f",
   "metadata": {},
   "outputs": [],
   "source": [
    "# 东北 —— 辽宁（沈阳, 41.80, 123.43）\n",
    "lat, lon = 41.80, 123.43\n",
    "tracker = OfflineEmissionsTracker(\n",
    "    project_name=\"offline_dongbei\",\n",
    "    country_iso_code=\"CHN\",\n",
    "    region=\"liaoning\",\n",
    "    grid_emission_mode=\"om\"\n",
    ")\n",
    "tracker._geo.latitude  = lat\n",
    "tracker._geo.longitude = lon\n",
    "tracker._conf[\"latitude\"]  = lat\n",
    "tracker._conf[\"longitude\"] = lon\n",
    "tracker.start()\n",
    "time.sleep(1)\n",
    "em_dongbei = tracker.stop()\n",
    "print(f\"东北（沈阳, {lat}, {lon}）→ {em_dongbei:.6f} kgCO₂eq\")"
   ]
  },
  {
   "cell_type": "code",
   "execution_count": null,
   "id": "fb48fcdb",
   "metadata": {},
   "outputs": [],
   "source": []
  }
 ],
 "metadata": {
  "kernelspec": {
   "display_name": "python310",
   "language": "python",
   "name": "python3"
  },
  "language_info": {
   "codemirror_mode": {
    "name": "ipython",
    "version": 3
   },
   "file_extension": ".py",
   "mimetype": "text/x-python",
   "name": "python",
   "nbconvert_exporter": "python",
   "pygments_lexer": "ipython3",
   "version": "3.10.16"
  }
 },
 "nbformat": 4,
 "nbformat_minor": 5
}
