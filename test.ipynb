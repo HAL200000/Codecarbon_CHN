{
 "cells": [
  {
   "cell_type": "code",
   "execution_count": 1,
   "metadata": {
    "collapsed": false,
    "pycharm": {
     "is_executing": true,
     "name": "#%%\n"
    }
   },
   "outputs": [
    {
     "name": "stdout",
     "output_type": "stream",
     "text": [
      "d:\\我的坚果云\\毕业设计\\codecarbon_CHN\\codecarbon\\__init__.py\n"
     ]
    }
   ],
   "source": [
    "# 现在导入 codecarbon，它会从指定的路径中加载\n",
    "import codecarbon\n",
    "print(codecarbon.__file__)  # 打印出 codecarbon 模块的路径，确保它是从新路径加载的\n"
   ]
  },
  {
   "cell_type": "code",
   "execution_count": 3,
   "metadata": {
    "collapsed": false,
    "pycharm": {
     "name": "#%%\n"
    }
   },
   "outputs": [
    {
     "name": "stderr",
     "output_type": "stream",
     "text": [
      "[codecarbon INFO @ 15:51:39] [GeoMetadata] 匹配排放因子: 0.935 (OM)\n"
     ]
    },
    {
     "name": "stdout",
     "output_type": "stream",
     "text": [
      "国家: China\n",
      "省份: shandong\n",
      "经纬度: 36.6683 116.9972\n",
      "电网区域: 华北\n"
     ]
    }
   ],
   "source": [
    "from codecarbon.external.geography import GeoMetadata\n",
    "\n",
    "g = GeoMetadata()           # 不传参数，内部会自动调用 IP 接口\n",
    "area = g.get_grid_area()\n",
    "print(\"国家:\", g.country_name)\n",
    "print(\"省份:\", g.region)\n",
    "print(\"经纬度:\", g.latitude, g.longitude)\n",
    "print(\"电网区域:\", area)\n"
   ]
  },
  {
   "cell_type": "code",
   "execution_count": null,
   "id": "adedc5ac",
   "metadata": {
    "collapsed": false,
    "pycharm": {
     "name": "#%%\n"
    }
   },
   "outputs": [
    {
     "name": "stdout",
     "output_type": "stream",
     "text": [
      "Epoch 1/15 | Loss: 218.7458\n",
      "Epoch 3/15 | Loss: 43.2463\n"
     ]
    }
   ],
   "source": [
    "import os\n",
    "from codecarbon import EmissionsTracker\n",
    "\n",
    "# 设置代理（如有需要）\n",
    "os.environ[\"HTTPS_PROXY\"] = \"http://127.0.0.1:7890\"\n",
    "os.environ[\"ALL_PROXY\"]   = \"socks5h://127.0.0.1:7890\"\n",
    "\n",
    "# ===== 初始化碳排放追踪器 =====\n",
    "tracker = EmissionsTracker(\n",
    "    project_name=\"MNIST\",\n",
    "    output_dir='D:\\\\我的坚果云\\\\毕业设计\\\\codecarbon_CHN\\\\carbon_logs',\n",
    "    measure_power_secs=1,\n",
    "    tracking_mode=\"process\",\n",
    "    log_level=\"error\",\n",
    "    grid_emission_mode=\"om\"  # 使用华北的 OM 排放因子\n",
    ")\n",
    "\n",
    "tracker.start()\n",
    "\n",
    "# ===== MNIST 训练部分 =====\n",
    "import torch\n",
    "import torch.nn as nn\n",
    "import torch.optim as optim\n",
    "from torchvision import datasets, transforms\n",
    "from torch.utils.data import DataLoader\n",
    "\n",
    "# 数据准备\n",
    "transform = transforms.Compose([transforms.ToTensor()])\n",
    "train_dataset = datasets.MNIST(root='./data', train=True, download=True, transform=transform)\n",
    "train_loader = DataLoader(train_dataset, batch_size=64, shuffle=True)\n",
    "\n",
    "# 简单模型\n",
    "class SimpleCNN(nn.Module):\n",
    "    def __init__(self):\n",
    "        super(SimpleCNN, self).__init__()\n",
    "        self.conv = nn.Sequential(\n",
    "            nn.Conv2d(1, 16, 3, padding=1), nn.ReLU(),\n",
    "            nn.MaxPool2d(2),\n",
    "            nn.Conv2d(16, 32, 3, padding=1), nn.ReLU(),\n",
    "            nn.MaxPool2d(2)\n",
    "        )\n",
    "        self.fc = nn.Sequential(\n",
    "            nn.Flatten(),\n",
    "            nn.Linear(32 * 7 * 7, 128),\n",
    "            nn.ReLU(),\n",
    "            nn.Linear(128, 10)\n",
    "        )\n",
    "\n",
    "    def forward(self, x):\n",
    "        x = self.conv(x)\n",
    "        x = self.fc(x)\n",
    "        return x\n",
    "\n",
    "# 训练设置\n",
    "device = torch.device(\"cuda\" if torch.cuda.is_available() else \"cpu\")\n",
    "model = SimpleCNN().to(device)\n",
    "criterion = nn.CrossEntropyLoss()\n",
    "optimizer = optim.Adam(model.parameters(), lr=1e-3)\n",
    "\n",
    "# 开始训练\n",
    "epochs = 15\n",
    "for epoch in range(epochs):\n",
    "    total_loss = 0\n",
    "    for batch_idx, (inputs, labels) in enumerate(train_loader):\n",
    "        inputs, labels = inputs.to(device), labels.to(device)\n",
    "        outputs = model(inputs)\n",
    "        loss = criterion(outputs, labels)\n",
    "        optimizer.zero_grad()\n",
    "        loss.backward()\n",
    "        optimizer.step()\n",
    "        total_loss += loss.item()\n",
    "    print(f\"Epoch {epoch+1}/{epochs} | Loss: {total_loss:.4f}\")\n",
    "\n",
    "# ===== 停止碳排放追踪并输出结果 =====\n",
    "emissions = tracker.stop()\n",
    "print(f\"MNIST 训练任务碳排放总计: {emissions:.6f} kg CO₂eq\")\n"
   ]
  }
 ],
 "metadata": {
  "kernelspec": {
   "display_name": "pytorch",
   "language": "python",
   "name": "python3"
  },
  "language_info": {
   "codemirror_mode": {
    "name": "ipython",
    "version": 3
   },
   "file_extension": ".py",
   "mimetype": "text/x-python",
   "name": "python",
   "nbconvert_exporter": "python",
   "pygments_lexer": "ipython3",
   "version": "3.10.12"
  }
 },
 "nbformat": 4,
 "nbformat_minor": 5
}