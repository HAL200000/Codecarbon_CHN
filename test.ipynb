{
 "cells": [
  {
   "cell_type": "code",
   "execution_count": 1,
   "metadata": {
    "collapsed": false,
    "pycharm": {
     "is_executing": true,
     "name": "#%%\n"
    }
   },
   "outputs": [
    {
     "name": "stdout",
     "output_type": "stream",
     "text": [
      "d:\\我的坚果云\\毕业设计\\codecarbon_CHN\\codecarbon\\__init__.py\n"
     ]
    }
   ],
   "source": [
    "# 现在导入 codecarbon，它会从指定的路径中加载\n",
    "import codecarbon\n",
    "print(codecarbon.__file__)  # 打印出 codecarbon 模块的路径，确保它是从新路径加载的\n"
   ]
  },
  {
   "cell_type": "code",
   "execution_count": 2,
   "metadata": {
    "collapsed": false,
    "pycharm": {
     "is_executing": true,
     "name": "#%%\n"
    }
   },
   "outputs": [
    {
     "name": "stderr",
     "output_type": "stream",
     "text": [
      "[codecarbon INFO @ 11:18:38] [setup] RAM Tracking...\n",
      "[codecarbon INFO @ 11:18:38] [setup] CPU Tracking...\n",
      "[codecarbon WARNING @ 11:18:38] No CPU tracking mode found. Falling back on CPU constant mode. \n",
      " Windows OS detected: Please install Intel Power Gadget to measure CPU\n",
      "\n",
      "[codecarbon INFO @ 11:18:40] CPU Model on constant consumption mode: 11th Gen Intel(R) Core(TM) i7-11800H @ 2.30GHz\n",
      "[codecarbon INFO @ 11:18:40] [setup] GPU Tracking...\n",
      "[codecarbon INFO @ 11:18:40] Tracking Nvidia GPU via pynvml\n",
      "[codecarbon INFO @ 11:18:40] >>> Tracker's metadata:\n",
      "[codecarbon INFO @ 11:18:40]   Platform system: Windows-10-10.0.19041-SP0\n",
      "[codecarbon INFO @ 11:18:40]   Python version: 3.10.12\n",
      "[codecarbon INFO @ 11:18:40]   CodeCarbon version: 2.8.3\n",
      "[codecarbon INFO @ 11:18:40]   Available RAM : 15.733 GB\n",
      "[codecarbon INFO @ 11:18:40]   CPU count: 16\n",
      "[codecarbon INFO @ 11:18:40]   CPU model: 11th Gen Intel(R) Core(TM) i7-11800H @ 2.30GHz\n",
      "[codecarbon INFO @ 11:18:40]   GPU count: 1\n",
      "[codecarbon INFO @ 11:18:40]   GPU model: 1 x NVIDIA GeForce RTX 3060 Laptop GPU\n",
      "[codecarbon INFO @ 11:18:44] Saving emissions data to file D:\\我的坚果云\\毕业设计\\codecarbon_CHN\\carbon_logs\\emissions.csv\n",
      "[codecarbon INFO @ 11:18:47] 电网区域: 未知\n",
      "[codecarbon INFO @ 11:18:47] 经纬度: 51.5064, -0.02\n"
     ]
    },
    {
     "name": "stdout",
     "output_type": "stream",
     "text": [
      "Running step 1\n",
      "Running step 2\n",
      "Running step 3\n",
      "Running step 4\n"
     ]
    },
    {
     "name": "stderr",
     "output_type": "stream",
     "text": [
      "[codecarbon INFO @ 11:18:52] Energy consumed for RAM : 0.000008 kWh. RAM Power : 5.8999457359313965 W\n",
      "[codecarbon INFO @ 11:18:52] Energy consumed for all CPUs : 0.000032 kWh. Total CPU Power : 22.5 W\n",
      "[codecarbon INFO @ 11:18:52] Energy consumed for all GPUs : 0.000018 kWh. Total GPU Power : 12.945288200177988 W\n",
      "[codecarbon INFO @ 11:18:52] 0.000058 kWh of electricity used since the beginning.\n"
     ]
    },
    {
     "name": "stdout",
     "output_type": "stream",
     "text": [
      "Running step 5\n",
      "任务碳排放总计: 0.000014 kg CO₂eq\n"
     ]
    }
   ],
   "source": [
    "from codecarbon import EmissionsTracker\n",
    "import os\n",
    "import time\n",
    "from pathlib import Path\n",
    "os.environ[\"HTTPS_PROXY\"] = \"http://127.0.0.1:7890\"\n",
    "os.environ[\"ALL_PROXY\"]   = \"socks5h://127.0.0.1:7890\"\n",
    "\n",
    "# 初始化 tracker，并把输出目录设为 carbon_logs\n",
    "tracker = EmissionsTracker(output_dir='D:\\我的坚果云\\毕业设计\\codecarbon_CHN\\carbon_logs')\n",
    "\n",
    "# 开始追踪\n",
    "tracker.start()\n",
    "\n",
    "# 模拟一个耗时任务（例如模型训练或数据处理）\n",
    "for i in range(5):\n",
    "    time.sleep(1)  # 模拟任务\n",
    "    print(f\"Running step {i+1}\")\n",
    "\n",
    "# 停止追踪\n",
    "emissions = tracker.stop()\n",
    "\n",
    "print(f\"任务碳排放总计: {emissions:.6f} kg CO₂eq\")"
   ]
  },
  {
   "cell_type": "code",
   "execution_count": 8,
   "metadata": {
    "collapsed": false,
    "pycharm": {
     "name": "#%%\n"
    }
   },
   "outputs": [
    {
     "name": "stdout",
     "output_type": "stream",
     "text": [
      "国家: United States\n",
      "省份: california\n",
      "经纬度: 34.0544 -118.244\n",
      "电网区域: 未知\n"
     ]
    }
   ],
   "source": [
    "from codecarbon.external.geography import GeoMetadata\n",
    "\n",
    "g = GeoMetadata()           # 不传参数，内部会自动调用 IP 接口\n",
    "area = g.get_grid_area()\n",
    "print(\"国家:\", g.country_name)\n",
    "print(\"省份:\", g.region)\n",
    "print(\"经纬度:\", g.latitude, g.longitude)\n",
    "print(\"电网区域:\", area)\n"
   ]
  },
  {
   "cell_type": "code",
   "execution_count": null,
   "metadata": {
    "collapsed": false,
    "pycharm": {
     "name": "#%%\n"
    }
   },
   "outputs": [],
   "source": []
  }
 ],
 "metadata": {
  "kernelspec": {
   "display_name": "pytorch",
   "language": "python",
   "name": "python3"
  },
  "language_info": {
   "codemirror_mode": {
    "name": "ipython",
    "version": 3
   },
   "file_extension": ".py",
   "mimetype": "text/x-python",
   "name": "python",
   "nbconvert_exporter": "python",
   "pygments_lexer": "ipython3",
   "version": "3.10.12"
  }
 },
 "nbformat": 4,
 "nbformat_minor": 5
}
