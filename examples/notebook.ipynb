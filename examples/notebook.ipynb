{
 "cells": [
  {
   "attachments": {},
   "cell_type": "markdown",
   "metadata": {},
   "source": [
    "# CodeCarbon in a Notebook"
   ]
  },
  {
   "cell_type": "code",
   "execution_count": 1,
   "metadata": {},
   "outputs": [],
   "source": [
    "from codecarbon import EmissionsTracker"
   ]
  },
  {
   "cell_type": "code",
   "execution_count": 2,
   "metadata": {},
   "outputs": [
    {
     "name": "stderr",
     "output_type": "stream",
     "text": [
      "[codecarbon INFO @ 15:11:41] [setup] RAM Tracking...\n",
      "[codecarbon INFO @ 15:11:41] [setup] GPU Tracking...\n",
      "[codecarbon INFO @ 15:11:41] No GPU found.\n",
      "[codecarbon INFO @ 15:11:41] [setup] CPU Tracking...\n",
      "[codecarbon INFO @ 15:11:41] Tracking Intel CPU via RAPL interface\n",
      "[codecarbon INFO @ 15:11:43] >>> Tracker's metadata:\n",
      "[codecarbon INFO @ 15:11:43]   Platform system: Linux-5.15.0-75-generic-x86_64-with-glibc2.10\n",
      "[codecarbon INFO @ 15:11:43]   Python version: 3.8.12\n",
      "[codecarbon INFO @ 15:11:43]   CodeCarbon version: 2.2.4\n",
      "[codecarbon INFO @ 15:11:43]   Available RAM : 15.499 GB\n",
      "[codecarbon INFO @ 15:11:43]   CPU count: 4\n",
      "[codecarbon INFO @ 15:11:43]   CPU model: Intel(R) Core(TM) i7-7600U CPU @ 2.80GHz\n",
      "[codecarbon INFO @ 15:11:43]   GPU count: None\n",
      "[codecarbon INFO @ 15:11:43]   GPU model: None\n",
      "[codecarbon WARNING @ 15:11:46] Unable to access geographical location. Using 'Canada' as the default value - Exception : Expecting value: line 1 column 1 (char 0) - url=https://get.geojs.io/v1/ip/geo.json\n"
     ]
    }
   ],
   "source": [
    "tracker = EmissionsTracker()\n",
    "tracker.start()"
   ]
  },
  {
   "cell_type": "code",
   "execution_count": 3,
   "metadata": {},
   "outputs": [
    {
     "name": "stderr",
     "output_type": "stream",
     "text": [
      "[codecarbon INFO @ 15:11:46] Energy consumed for RAM : 0.000000 kWh. RAM Power : 5.812030792236328 W\n",
      "[codecarbon INFO @ 15:11:46] Energy consumed for all CPUs : 0.000000 kWh. Total CPU Power : 16.781044401284174 W\n",
      "[codecarbon INFO @ 15:11:46] 0.000000 kWh of electricity used since the beginning.\n",
      "[codecarbon INFO @ 15:11:46] Backing up old emission file\n"
     ]
    },
    {
     "name": "stdout",
     "output_type": "stream",
     "text": [
      "2.056024302806077e-07 gCO2eq\n"
     ]
    }
   ],
   "source": [
    "try:\n",
    "    # Compute-intensive code goes here\n",
    "    for i in range(10,1):\n",
    "        print(i)\n",
    "finally:\n",
    "    emissions = tracker.stop()\n",
    "print(f\"{emissions * 1_000} gCO2eq\")"
   ]
  },
  {
   "cell_type": "code",
   "execution_count": null,
   "metadata": {},
   "outputs": [],
   "source": []
  }
 ],
 "metadata": {
  "kernelspec": {
   "display_name": ".venv",
   "language": "python",
   "name": "python3"
  },
  "language_info": {
   "codemirror_mode": {
    "name": "ipython",
    "version": 3
   },
   "file_extension": ".py",
   "mimetype": "text/x-python",
   "name": "python",
   "nbconvert_exporter": "python",
   "pygments_lexer": "ipython3",
   "version": "3.8.12"
  },
  "orig_nbformat": 4
 },
 "nbformat": 4,
 "nbformat_minor": 2
}